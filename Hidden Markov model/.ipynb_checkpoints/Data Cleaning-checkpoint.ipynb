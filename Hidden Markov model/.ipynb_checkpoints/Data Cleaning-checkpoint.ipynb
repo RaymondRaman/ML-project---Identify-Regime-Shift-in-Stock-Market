{
 "cells": [
  {
   "cell_type": "code",
   "execution_count": 12,
   "id": "9f122928",
   "metadata": {},
   "outputs": [],
   "source": [
    "# import neccessary library\n",
    "import numpy as np\n",
    "import pandas as pd\n",
    "import matplotlib.pyplot as plt\n",
    "import seaborn as sns\n",
    "from sklearn.impute import KNNImputer \n",
    "from sklearn.feature_selection import RFE, SelectKBest, f_classif\n",
    "from sklearn.ensemble import RandomForestClassifier, RandomForestRegressor\n",
    "from sklearn.linear_model import LinearRegression\n",
    "import os \n",
    "import warnings\n",
    "warnings.filterwarnings('ignore')"
   ]
  },
  {
   "cell_type": "code",
   "execution_count": 13,
   "id": "d049fbe1",
   "metadata": {},
   "outputs": [],
   "source": [
    "# Extracting Data from a Single Excel File Containing Multiple Stock Index Information\n",
    "def data_cleaning(original_file_name, saved_file_name):\n",
    "    index_data_dir = os.path.join(os.getcwd(), 'data', 'feature_data', 'unfinish data')\n",
    "    original_file = pd.read_excel(os.path.join(index_data_dir, original_file_name))\n",
    "\n",
    "    # Secid: [RUT:102434 DJX: 102456 SPX: 108105]\n",
    "    filtered_data = original_file[original_file['Security ID'] == 102434]\n",
    "    filtered_data['The Date of this Option Price'] = filtered_data['The Date of this Option Price'].dt.strftime('%-d/%-m/%Y')\n",
    "\n",
    "    # Define the path for the new Excel file\n",
    "    output_excel_path = os.path.join(index_data_dir, saved_file_name)\n",
    "\n",
    "    # Write the filtered data to a new Excel file\n",
    "    filtered_data.to_excel(output_excel_path, index=False)\n"
   ]
  },
  {
   "cell_type": "code",
   "execution_count": 14,
   "id": "b557802a",
   "metadata": {},
   "outputs": [],
   "source": [
    "def data_clearning_for_option_v1(original_file_name, saved_file_name):\n",
    "    index_data_dir = os.path.join(os.getcwd(), 'data', 'feature_data', 'unfinish data')\n",
    "    original_file = pd.read_excel(os.path.join(index_data_dir, original_file_name))\n",
    "    \n",
    "    # C=Call, P=Put ID\n",
    "    filtered_data = original_file[original_file['C=Call, P=Put'] == 'P']\n",
    "\n",
    "    # Define the path for the new Excel file\n",
    "    output_excel_path = os.path.join(index_data_dir, saved_file_name)\n",
    "    \n",
    "    # Write the filtered data to a new Excel file\n",
    "    filtered_data.to_excel(output_excel_path, index=False)"
   ]
  },
  {
   "cell_type": "code",
   "execution_count": 15,
   "id": "d3bbd7c2",
   "metadata": {},
   "outputs": [],
   "source": [
    "# data cleaning for OptionMetrics - Standardized Options (CALL)\n",
    "def data_clearning_for_option_v2(original_file_name, saved_file_name):\n",
    "    index_data_dir = os.path.join(os.getcwd(), 'data', 'feature_data', 'unfinish data')\n",
    "    original_file = pd.read_excel(os.path.join(index_data_dir, original_file_name))\n",
    "\n",
    "    # Secid: [RUT:102434 DJX: 102456 SPX: 108105]\n",
    "    filtered_data = original_file[original_file['Security ID'] == 108105]\n",
    "    filtered_data['The Date of this Option Price'] = filtered_data['The Date of this Option Price'].dt.strftime('%-d/%-m/%Y')\n",
    "\n",
    "    # Define the path for the new Excel file\n",
    "    output_excel_path = os.path.join(index_data_dir, saved_file_name)\n",
    "\n",
    "    # Write the filtered data to a new Excel file\n",
    "    filtered_data.to_excel(output_excel_path, index=False)"
   ]
  },
  {
   "cell_type": "code",
   "execution_count": 16,
   "id": "3c22a249",
   "metadata": {},
   "outputs": [],
   "source": [
    "def data_cleaning_withZeroContent(original_file_name, saved_file_name):\n",
    "    index_data_dir = os.path.join(os.getcwd(), 'data', 'feature_data', 'unfinish data')\n",
    "    \n",
    "    # Read the original Excel file\n",
    "    original_file = pd.read_excel(os.path.join(index_data_dir, original_file_name))\n",
    "\n",
    "    # Filter rows where 'Interpolated Premium for the Option' column is 0\n",
    "    filtered_data = original_file[original_file['Strike Price, Currently Always Equal to Forward Price'] != 0]\n",
    "\n",
    "    # Define the path for the new Excel file\n",
    "    output_excel_path = os.path.join(index_data_dir, 'temp', saved_file_name)\n",
    "\n",
    "    # Write the filtered data to a new Excel file\n",
    "    filtered_data.to_excel(output_excel_path, index=False)"
   ]
  },
  {
   "cell_type": "code",
   "execution_count": 17,
   "id": "1c1f92dc",
   "metadata": {},
   "outputs": [],
   "source": [
    "# data cleaning for OptionMetrics - Security Prices\n",
    "# Extracting Data from a Single Excel File Containing Multiple Stock Index Information\n",
    "def data_clearning_for_security_price(original_file_name, saved_file_name):\n",
    "    index_data_dir = os.path.join(os.getcwd(), 'data', 'index_data', 'unfinish data')\n",
    "    original_file = pd.read_excel(os.path.join(index_data_dir, original_file_name))\n",
    "\n",
    "    # Secid: [RUT:102434 DJX: 102456 SPX: 108105]\n",
    "    filtered_data = original_file[original_file['Security ID'] == 108105]\n",
    "    filtered_data['The Date for this Price Record'] = filtered_data['The Date for this Price Record'].dt.strftime('%-d/%-m/%Y')\n",
    "\n",
    "    # Define the path for the new Excel file\n",
    "    output_excel_path = os.path.join(index_data_dir, saved_file_name)\n",
    "\n",
    "    # Write the filtered data to a new Excel file\n",
    "    filtered_data.to_excel(output_excel_path, index=False)"
   ]
  }
 ],
 "metadata": {
  "kernelspec": {
   "display_name": "Python 3 (ipykernel)",
   "language": "python",
   "name": "python3"
  },
  "language_info": {
   "codemirror_mode": {
    "name": "ipython",
    "version": 3
   },
   "file_extension": ".py",
   "mimetype": "text/x-python",
   "name": "python",
   "nbconvert_exporter": "python",
   "pygments_lexer": "ipython3",
   "version": "3.10.8"
  }
 },
 "nbformat": 4,
 "nbformat_minor": 5
}
