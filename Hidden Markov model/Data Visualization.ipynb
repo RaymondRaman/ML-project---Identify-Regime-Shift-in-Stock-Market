{
 "cells": [
  {
   "cell_type": "code",
   "execution_count": 1,
   "id": "a0f831ff",
   "metadata": {},
   "outputs": [],
   "source": [
    "def plot_target_index(index_train_data):\n",
    "    ax = index_train_data.plot()\n",
    "    ax.get_yaxis().set_major_formatter(plt.FuncFormatter(lambda x, loc: \"{:.2f}\".format(float(x))))\n",
    "    plt.xlabel('Date')\n",
    "    plt.ylabel('Log return on S&P')\n",
    "    plt.title('Log return on S&P')\n",
    "    plt.show()"
   ]
  },
  {
   "cell_type": "code",
   "execution_count": null,
   "id": "36ddf16f",
   "metadata": {},
   "outputs": [],
   "source": []
  }
 ],
 "metadata": {
  "kernelspec": {
   "display_name": "Python 3 (ipykernel)",
   "language": "python",
   "name": "python3"
  },
  "language_info": {
   "codemirror_mode": {
    "name": "ipython",
    "version": 3
   },
   "file_extension": ".py",
   "mimetype": "text/x-python",
   "name": "python",
   "nbconvert_exporter": "python",
   "pygments_lexer": "ipython3",
   "version": "3.10.8"
  }
 },
 "nbformat": 4,
 "nbformat_minor": 5
}
