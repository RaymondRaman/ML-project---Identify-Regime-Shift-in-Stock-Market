{
 "cells": [
  {
   "cell_type": "code",
   "execution_count": 2,
   "id": "a0f831ff",
   "metadata": {},
   "outputs": [],
   "source": [
    "def plot_target_index(index_train_data):\n",
    "    ax = index_train_data.plot()\n",
    "    ax.get_yaxis().set_major_formatter(plt.FuncFormatter(lambda x, loc: \"{:.2f}\".format(float(x))))\n",
    "    plt.xlabel('Date')\n",
    "    plt.ylabel('Log return on S&P')\n",
    "    plt.title('Log return on S&P')\n",
    "    plt.show()"
   ]
  },
  {
   "cell_type": "code",
   "execution_count": 3,
   "id": "36ddf16f",
   "metadata": {},
   "outputs": [],
   "source": [
    "def plot_hidden_states(model):\n",
    "    #The hidden states masking the adjusted closing prices are plotted\n",
    "    sns.set(font_scale=1.25)\n",
    "    style_kwds = {'xtick.major.size': 3, 'ytick.major.size': 3, 'legend.frameon': True}\n",
    "    sns.set_style('white', style_kwds)\n",
    "\n",
    "    fig, axs = plt.subplots(model.n_components, sharex=True, sharey=True, figsize=(12,9))\n",
    "    colors = cm.rainbow(np.linspace(0, 1, model.n_components))\n",
    "\n",
    "    for i, (ax, color) in enumerate(zip(axs, colors)):\n",
    "        # Use fancy indexing to plot data in each state.\n",
    "        mask = hidden_states == i\n",
    "        ax.plot_date(train_df.index.values[mask],\n",
    "                     train_df['CRSP Index File on the S&P 500 - Level of the S&P 500 Index'].values[mask],\n",
    "                     \".-\", c=color)\n",
    "        ax.set_title(f\"{i}th hidden state\", fontsize=16, fontweight='demi')\n",
    "\n",
    "        # Format the ticks.\n",
    "        ax.xaxis.set_major_locator(YearLocator())\n",
    "        ax.xaxis.set_minor_locator(MonthLocator())\n",
    "        sns.despine(offset=10)\n",
    "\n",
    "    plt.tight_layout()\n",
    "    fig.savefig('Hidden Markov Model_Regime Subplots.png')"
   ]
  }
 ],
 "metadata": {
  "kernelspec": {
   "display_name": "Python 3 (ipykernel)",
   "language": "python",
   "name": "python3"
  },
  "language_info": {
   "codemirror_mode": {
    "name": "ipython",
    "version": 3
   },
   "file_extension": ".py",
   "mimetype": "text/x-python",
   "name": "python",
   "nbconvert_exporter": "python",
   "pygments_lexer": "ipython3",
   "version": "3.10.8"
  }
 },
 "nbformat": 4,
 "nbformat_minor": 5
}
